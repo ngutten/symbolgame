{
 "cells": [
  {
   "cell_type": "code",
   "execution_count": 4,
   "metadata": {},
   "outputs": [],
   "source": [
    "%matplotlib inline\n",
    "\n",
    "import numpy as np\n",
    "import pandas as pd\n",
    "import matplotlib.pyplot as plt\n",
    "\n",
    "import torch\n",
    "import torch.nn as nn\n",
    "import torch.nn.functional as F\n",
    "\n",
    "from math import *\n",
    "import time\n",
    "from IPython import display\n",
    "\n",
    "from PIL import Image\n",
    "\n",
    "import pygame\n",
    "\n",
    "from torchvision.datasets import Omniglot\n",
    "from torchvision.transforms.functional import affine\n",
    "DEVICE = \"cuda\""
   ]
  },
  {
   "cell_type": "code",
   "execution_count": 5,
   "metadata": {},
   "outputs": [],
   "source": [
    "class DownBlock(nn.Module):\n",
    "    def __init__(self, NI, NO):\n",
    "        super().__init__()\n",
    "        self.l1 = nn.Conv2d(NI, NO, 3, padding=1, padding_mode='circular')\n",
    "        self.l2 = nn.Conv2d(NO, NO, 3, padding=1, padding_mode='circular')\n",
    "        self.pool = nn.MaxPool2d(2)\n",
    "        self.b = nn.BatchNorm2d(NO)\n",
    "        \n",
    "    def forward(self, x):\n",
    "        z = F.elu(self.l1(x))\n",
    "        z = self.b(F.elu(self.l2(z)))\n",
    "        return self.pool(z)\n",
    "\n",
    "class UpBlock(nn.Module):\n",
    "    def __init__(self, NI, NO):\n",
    "        super().__init__()\n",
    "        self.upsample = nn.Upsample(scale_factor=2, mode='bilinear')\n",
    "        self.l1 = nn.Conv2d(NI, NO, 3, padding=1, padding_mode='circular')\n",
    "        self.l2 = nn.Conv2d(NO, NO, 3, padding=1, padding_mode='circular')\n",
    "        self.b = nn.BatchNorm2d(NI)\n",
    "        \n",
    "    def forward(self, x):\n",
    "        z = self.b(self.upsample(x))\n",
    "        z = F.elu(self.l1(z))\n",
    "        return F.elu(self.l2(z))\n",
    "\n",
    "class Net(nn.Module):\n",
    "    def __init__(self):\n",
    "        super().__init__()\n",
    "        \n",
    "        self.down1 = DownBlock(1,16)\n",
    "        self.down2 = DownBlock(16,32)\n",
    "        self.down3 = DownBlock(32,64)\n",
    "        self.down4 = DownBlock(64,128)\n",
    "        \n",
    "        self.linter1 = nn.Conv2d(128,128,5,padding=2, padding_mode='circular')\n",
    "        \n",
    "        self.bn = nn.BatchNorm2d(128)\n",
    "        \n",
    "        self.up4 = UpBlock(128,64)\n",
    "        self.up3 = UpBlock(64,32)\n",
    "        self.up2 = UpBlock(32,16)\n",
    "        self.up1 = UpBlock(16,16)\n",
    "        self.lfinal = nn.Conv2d(16, 6, 1)\n",
    "        \n",
    "        self.optim = torch.optim.Adam(self.parameters(), lr = 1e-4)\n",
    "        \n",
    "    def forward(self, x):\n",
    "        z1 = self.down1(x)\n",
    "        z2 = self.down2(z1) # 64, RES/4\n",
    "        z3 = self.down3(z2) # 128, RES/8\n",
    "        z4 = self.down4(z3) # 256, RES/16\n",
    "        \n",
    "        z5 = self.bn(F.elu(self.linter1(z4)))\n",
    "        \n",
    "        z7 = z3 + self.up4(z5) # 128, RES/8\n",
    "        z8 = z2 + self.up3(z7) # 64, RES/4\n",
    "        z9 = z1 + self.up2(z8) # 32, RES/2\n",
    "                \n",
    "        embedding = self.up1(z9)\n",
    "        z10 = F.log_softmax(self.lfinal(embedding), dim=1)\n",
    "        \n",
    "        embedding = (x*embedding).sum(3).sum(2)/x.sum(3).sum(2)\n",
    "        embedding = embedding/torch.sqrt(1e-8 + torch.sum(embedding**2,1).unsqueeze(1))\n",
    "        return z10, embedding"
   ]
  },
  {
   "cell_type": "code",
   "execution_count": 6,
   "metadata": {},
   "outputs": [
    {
     "data": {
      "text/plain": [
       "Net(\n",
       "  (down1): DownBlock(\n",
       "    (l1): Conv2d(1, 16, kernel_size=(3, 3), stride=(1, 1), padding=(1, 1), padding_mode=circular)\n",
       "    (l2): Conv2d(16, 16, kernel_size=(3, 3), stride=(1, 1), padding=(1, 1), padding_mode=circular)\n",
       "    (pool): MaxPool2d(kernel_size=2, stride=2, padding=0, dilation=1, ceil_mode=False)\n",
       "    (b): BatchNorm2d(16, eps=1e-05, momentum=0.1, affine=True, track_running_stats=True)\n",
       "  )\n",
       "  (down2): DownBlock(\n",
       "    (l1): Conv2d(16, 32, kernel_size=(3, 3), stride=(1, 1), padding=(1, 1), padding_mode=circular)\n",
       "    (l2): Conv2d(32, 32, kernel_size=(3, 3), stride=(1, 1), padding=(1, 1), padding_mode=circular)\n",
       "    (pool): MaxPool2d(kernel_size=2, stride=2, padding=0, dilation=1, ceil_mode=False)\n",
       "    (b): BatchNorm2d(32, eps=1e-05, momentum=0.1, affine=True, track_running_stats=True)\n",
       "  )\n",
       "  (down3): DownBlock(\n",
       "    (l1): Conv2d(32, 64, kernel_size=(3, 3), stride=(1, 1), padding=(1, 1), padding_mode=circular)\n",
       "    (l2): Conv2d(64, 64, kernel_size=(3, 3), stride=(1, 1), padding=(1, 1), padding_mode=circular)\n",
       "    (pool): MaxPool2d(kernel_size=2, stride=2, padding=0, dilation=1, ceil_mode=False)\n",
       "    (b): BatchNorm2d(64, eps=1e-05, momentum=0.1, affine=True, track_running_stats=True)\n",
       "  )\n",
       "  (down4): DownBlock(\n",
       "    (l1): Conv2d(64, 128, kernel_size=(3, 3), stride=(1, 1), padding=(1, 1), padding_mode=circular)\n",
       "    (l2): Conv2d(128, 128, kernel_size=(3, 3), stride=(1, 1), padding=(1, 1), padding_mode=circular)\n",
       "    (pool): MaxPool2d(kernel_size=2, stride=2, padding=0, dilation=1, ceil_mode=False)\n",
       "    (b): BatchNorm2d(128, eps=1e-05, momentum=0.1, affine=True, track_running_stats=True)\n",
       "  )\n",
       "  (linter1): Conv2d(128, 128, kernel_size=(5, 5), stride=(1, 1), padding=(2, 2), padding_mode=circular)\n",
       "  (bn): BatchNorm2d(128, eps=1e-05, momentum=0.1, affine=True, track_running_stats=True)\n",
       "  (up4): UpBlock(\n",
       "    (upsample): Upsample(scale_factor=2.0, mode=bilinear)\n",
       "    (l1): Conv2d(128, 64, kernel_size=(3, 3), stride=(1, 1), padding=(1, 1), padding_mode=circular)\n",
       "    (l2): Conv2d(64, 64, kernel_size=(3, 3), stride=(1, 1), padding=(1, 1), padding_mode=circular)\n",
       "    (b): BatchNorm2d(128, eps=1e-05, momentum=0.1, affine=True, track_running_stats=True)\n",
       "  )\n",
       "  (up3): UpBlock(\n",
       "    (upsample): Upsample(scale_factor=2.0, mode=bilinear)\n",
       "    (l1): Conv2d(64, 32, kernel_size=(3, 3), stride=(1, 1), padding=(1, 1), padding_mode=circular)\n",
       "    (l2): Conv2d(32, 32, kernel_size=(3, 3), stride=(1, 1), padding=(1, 1), padding_mode=circular)\n",
       "    (b): BatchNorm2d(64, eps=1e-05, momentum=0.1, affine=True, track_running_stats=True)\n",
       "  )\n",
       "  (up2): UpBlock(\n",
       "    (upsample): Upsample(scale_factor=2.0, mode=bilinear)\n",
       "    (l1): Conv2d(32, 16, kernel_size=(3, 3), stride=(1, 1), padding=(1, 1), padding_mode=circular)\n",
       "    (l2): Conv2d(16, 16, kernel_size=(3, 3), stride=(1, 1), padding=(1, 1), padding_mode=circular)\n",
       "    (b): BatchNorm2d(32, eps=1e-05, momentum=0.1, affine=True, track_running_stats=True)\n",
       "  )\n",
       "  (up1): UpBlock(\n",
       "    (upsample): Upsample(scale_factor=2.0, mode=bilinear)\n",
       "    (l1): Conv2d(16, 16, kernel_size=(3, 3), stride=(1, 1), padding=(1, 1), padding_mode=circular)\n",
       "    (l2): Conv2d(16, 16, kernel_size=(3, 3), stride=(1, 1), padding=(1, 1), padding_mode=circular)\n",
       "    (b): BatchNorm2d(16, eps=1e-05, momentum=0.1, affine=True, track_running_stats=True)\n",
       "  )\n",
       "  (lfinal): Conv2d(16, 6, kernel_size=(1, 1), stride=(1, 1))\n",
       ")"
      ]
     },
     "execution_count": 6,
     "metadata": {},
     "output_type": "execute_result"
    }
   ],
   "source": [
    "net = Net().to(DEVICE)\n",
    "net.load_state_dict(torch.load(\"symbol_seg.pth\"))\n",
    "net.eval()"
   ]
  },
  {
   "cell_type": "code",
   "execution_count": 7,
   "metadata": {},
   "outputs": [],
   "source": [
    "pygame.init()\n",
    "RES = 64\n",
    "MULT = 8\n",
    "screen = pygame.display.set_mode((RES*MULT,RES*MULT), 0, 24)"
   ]
  },
  {
   "cell_type": "code",
   "execution_count": 8,
   "metadata": {},
   "outputs": [],
   "source": [
    "canvas = np.zeros((64,64))"
   ]
  },
  {
   "cell_type": "code",
   "execution_count": 9,
   "metadata": {},
   "outputs": [
    {
     "name": "stderr",
     "output_type": "stream",
     "text": [
      "/usr/local/lib/python3.8/dist-packages/torch/nn/functional.py:3631: UserWarning: Default upsampling behavior when mode=bilinear is changed to align_corners=False since 0.4.0. Please specify align_corners=True if the old behavior is desired. See the documentation of nn.Upsample for details.\n",
      "  warnings.warn(\n"
     ]
    },
    {
     "ename": "KeyboardInterrupt",
     "evalue": "",
     "output_type": "error",
     "traceback": [
      "\u001b[0;31m---------------------------------------------------------------------------\u001b[0m",
      "\u001b[0;31mKeyboardInterrupt\u001b[0m                         Traceback (most recent call last)",
      "\u001b[0;32m<ipython-input-9-638c18e7ca92>\u001b[0m in \u001b[0;36m<module>\u001b[0;34m\u001b[0m\n\u001b[1;32m     16\u001b[0m     \u001b[0ms_image\u001b[0m \u001b[0;34m=\u001b[0m \u001b[0mpygame\u001b[0m\u001b[0;34m.\u001b[0m\u001b[0mpixelcopy\u001b[0m\u001b[0;34m.\u001b[0m\u001b[0mmake_surface\u001b[0m\u001b[0;34m(\u001b[0m\u001b[0mrgb\u001b[0m\u001b[0;34m)\u001b[0m\u001b[0;34m\u001b[0m\u001b[0;34m\u001b[0m\u001b[0m\n\u001b[1;32m     17\u001b[0m \u001b[0;34m\u001b[0m\u001b[0m\n\u001b[0;32m---> 18\u001b[0;31m     \u001b[0mscreen\u001b[0m\u001b[0;34m.\u001b[0m\u001b[0mblit\u001b[0m\u001b[0;34m(\u001b[0m\u001b[0ms_image\u001b[0m\u001b[0;34m,\u001b[0m \u001b[0;34m(\u001b[0m\u001b[0;36m0\u001b[0m\u001b[0;34m,\u001b[0m \u001b[0;36m0\u001b[0m\u001b[0;34m)\u001b[0m\u001b[0;34m)\u001b[0m\u001b[0;34m\u001b[0m\u001b[0;34m\u001b[0m\u001b[0m\n\u001b[0m\u001b[1;32m     19\u001b[0m \u001b[0;34m\u001b[0m\u001b[0m\n\u001b[1;32m     20\u001b[0m     \u001b[0mpygame\u001b[0m\u001b[0;34m.\u001b[0m\u001b[0mdisplay\u001b[0m\u001b[0;34m.\u001b[0m\u001b[0mupdate\u001b[0m\u001b[0;34m(\u001b[0m\u001b[0;34m)\u001b[0m\u001b[0;34m\u001b[0m\u001b[0;34m\u001b[0m\u001b[0m\n",
      "\u001b[0;31mKeyboardInterrupt\u001b[0m: "
     ]
    }
   ],
   "source": [
    "colors = torch.cuda.FloatTensor(np.array([[1,0,0], [0,1,0], [0,0,1], [1,0,1], [0,1,1], [0.5, 0.5, 0.5]]))\n",
    "\n",
    "while True:\n",
    "    x = torch.cuda.FloatTensor(canvas.transpose(1,0)).unsqueeze(0).unsqueeze(1)\n",
    "    p,_ = net.forward(x)\n",
    "    p = torch.exp(2*p)\n",
    "    p = p/torch.sum(p,1).unsqueeze(1)\n",
    "    p = torch.sum(p.unsqueeze(4)*colors.view((1,6,1,1,3)),1)[0]\n",
    "    p = p*(x[0,0].unsqueeze(2))\n",
    "    p = p.cpu().detach().numpy().transpose(1,0,2)\n",
    "    rgb = np.clip(256*p,0,255).astype(np.uint8)\n",
    "    \n",
    "    #rgb = np.repeat(np.clip(256*canvas[:,:,np.newaxis],0,255).astype(np.uint8),3,axis=2)\n",
    "    rgb = np.repeat(rgb,MULT,axis=0)\n",
    "    rgb = np.repeat(rgb,MULT,axis=1)\n",
    "    s_image = pygame.pixelcopy.make_surface(rgb)\n",
    "\n",
    "    screen.blit(s_image, (0, 0))\n",
    "\n",
    "    pygame.display.update()   \n",
    "    time.sleep(0.005)\n",
    "        \n",
    "    for event in pygame.event.get():\n",
    "        if event.type == pygame.KEYUP:\n",
    "            if event.key == pygame.K_r:\n",
    "                canvas = canvas * 0\n",
    "                \n",
    "        if event.type == pygame.MOUSEMOTION:\n",
    "            if event.buttons[0]:\n",
    "                t1 = time.time()\n",
    "                mx = event.pos[0]//MULT\n",
    "                my = event.pos[1]//MULT\n",
    "                \n",
    "                for dy in range(-2,3):\n",
    "                    for dx in range(-2,3):\n",
    "                        if dx*dx+dy*dy<=2:\n",
    "                            x = dx+mx\n",
    "                            y = dy+my\n",
    "                            if x>=0 and y>=0 and x<64 and y<64:\n",
    "                                canvas[x,y] = 1\n",
    "            if event.buttons[2]:\n",
    "                t1 = time.time()\n",
    "                mx = event.pos[0]//MULT\n",
    "                my = event.pos[1]//MULT\n",
    "                \n",
    "                for dy in range(-2,3):\n",
    "                    for dx in range(-2,3):\n",
    "                        if dx*dx+dy*dy<=2:\n",
    "                            x = dx+mx\n",
    "                            y = dy+my\n",
    "                            if x>=0 and y>=0 and x<64 and y<64:\n",
    "                                canvas[x,y] = 0\n",
    "        "
   ]
  },
  {
   "cell_type": "code",
   "execution_count": null,
   "metadata": {},
   "outputs": [],
   "source": []
  }
 ],
 "metadata": {
  "kernelspec": {
   "display_name": "Python 3",
   "language": "python",
   "name": "python3"
  },
  "language_info": {
   "codemirror_mode": {
    "name": "ipython",
    "version": 3
   },
   "file_extension": ".py",
   "mimetype": "text/x-python",
   "name": "python",
   "nbconvert_exporter": "python",
   "pygments_lexer": "ipython3",
   "version": "3.8.10"
  },
  "varInspector": {
   "cols": {
    "lenName": 16,
    "lenType": 16,
    "lenVar": 40
   },
   "kernels_config": {
    "python": {
     "delete_cmd_postfix": "",
     "delete_cmd_prefix": "del ",
     "library": "var_list.py",
     "varRefreshCmd": "print(var_dic_list())"
    },
    "r": {
     "delete_cmd_postfix": ") ",
     "delete_cmd_prefix": "rm(",
     "library": "var_list.r",
     "varRefreshCmd": "cat(var_dic_list()) "
    }
   },
   "types_to_exclude": [
    "module",
    "function",
    "builtin_function_or_method",
    "instance",
    "_Feature"
   ],
   "window_display": false
  }
 },
 "nbformat": 4,
 "nbformat_minor": 4
}
